{
 "cells": [
  {
   "cell_type": "code",
   "execution_count": 1,
   "metadata": {},
   "outputs": [
    {
     "name": "stdout",
     "output_type": "stream",
     "text": [
      "hello hisham\n"
     ]
    }
   ],
   "source": [
    "def hello(name):\n",
    "    \"\"\" doc string\"\"\"\n",
    "    print('hello', name)\n",
    "    \n",
    "if __name__ == '__main__':\n",
    "    hello('hisham')"
   ]
  },
  {
   "cell_type": "code",
   "execution_count": 3,
   "metadata": {},
   "outputs": [
    {
     "name": "stdout",
     "output_type": "stream",
     "text": [
      "None\n"
     ]
    }
   ],
   "source": [
    "def hai():\n",
    "    return\n",
    "print(hai())"
   ]
  },
  {
   "cell_type": "code",
   "execution_count": 6,
   "metadata": {},
   "outputs": [],
   "source": [
    "def hola(ha, hai = 3):\n",
    "    print(ha)\n",
    "    \n"
   ]
  },
  {
   "cell_type": "code",
   "execution_count": 9,
   "metadata": {},
   "outputs": [
    {
     "name": "stdout",
     "output_type": "stream",
     "text": [
      "2\n",
      "3\n",
      "4\n",
      "5\n",
      "5\n",
      "<class 'tuple'>\n",
      "helo 9843\n",
      "<class 'dict'>\n"
     ]
    }
   ],
   "source": [
    "def hola(*args, **kwargs):\n",
    "    for i in args:\n",
    "        print(i)\n",
    "    print(type(args))\n",
    "    for i, v in kwargs.items():\n",
    "        print(i , v)\n",
    "    print(type(kwargs))\n",
    "        \n",
    "hola(2,3,4,5,5,helo=9843)"
   ]
  },
  {
   "cell_type": "code",
   "execution_count": 1,
   "metadata": {},
   "outputs": [
    {
     "ename": "TypeError",
     "evalue": "f1() missing 1 required positional argument: 'num2'",
     "output_type": "error",
     "traceback": [
      "\u001b[0;31m---------------------------------------------------------------------------\u001b[0m",
      "\u001b[0;31mTypeError\u001b[0m                                 Traceback (most recent call last)",
      "Cell \u001b[0;32mIn[1], line 7\u001b[0m\n\u001b[1;32m      4\u001b[0m \u001b[39mdef\u001b[39;00m \u001b[39mf1\u001b[39m(num, num2):\n\u001b[1;32m      5\u001b[0m     \u001b[39mreturn\u001b[39;00m num\u001b[39m+\u001b[39mnum2\n\u001b[0;32m----> 7\u001b[0m \u001b[39mprint\u001b[39m(f1(\u001b[39m5\u001b[39;49m))\n",
      "\u001b[0;31mTypeError\u001b[0m: f1() missing 1 required positional argument: 'num2'"
     ]
    }
   ],
   "source": [
    "def f1(num):\n",
    "    return num\n",
    "\n",
    "def f1(num, num2):\n",
    "    return num+num2\n",
    "\n",
    "print(f1(5))"
   ]
  },
  {
   "cell_type": "code",
   "execution_count": null,
   "metadata": {},
   "outputs": [],
   "source": []
  }
 ],
 "metadata": {
  "kernelspec": {
   "display_name": "base",
   "language": "python",
   "name": "python3"
  },
  "language_info": {
   "codemirror_mode": {
    "name": "ipython",
    "version": 3
   },
   "file_extension": ".py",
   "mimetype": "text/x-python",
   "name": "python",
   "nbconvert_exporter": "python",
   "pygments_lexer": "ipython3",
   "version": "3.11.4"
  },
  "orig_nbformat": 4
 },
 "nbformat": 4,
 "nbformat_minor": 2
}
