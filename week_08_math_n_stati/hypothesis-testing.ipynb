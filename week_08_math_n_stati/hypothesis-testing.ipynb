{
 "cells": [
  {
   "cell_type": "markdown",
   "metadata": {},
   "source": [
    "Prepared By [Izam Mohammed](https://github.com/izam-mohammed) 😊. Follow for more ❤️."
   ]
  },
  {
   "cell_type": "code",
   "execution_count": 1,
   "metadata": {
    "collapsed": true
   },
   "outputs": [],
   "source": [
    "%matplotlib inline\n",
    "import pandas as pd\n",
    "import numpy as np\n",
    "import scipy.stats\n",
    "import matplotlib.pyplot as plt"
   ]
  },
  {
   "cell_type": "markdown",
   "metadata": {},
   "source": [
    "# Hypothesis Testing Introduction"
   ]
  },
  {
   "cell_type": "markdown",
   "metadata": {},
   "source": [
    "- the task of determining the probability that a hypothesis is true\n",
    "- typically, we define a null hypothesis and an alternative hypothesis; then, we determine the probability that the null hypothesis is true\n",
    "- a p-value is a test statistic that can be regarded as evidence against the null hypothesis (for instance, we reject a null hypothesis if the p-value is smaller than a specified threshold or significance level or alpha value) -- the p-value is the probability of a model assuming that the null hypothesis is true\n",
    "- 1-sample test: compare a sample against a number\n",
    "- 2-sample test: compare two samples"
   ]
  },
  {
   "cell_type": "markdown",
   "metadata": {},
   "source": [
    "## Case 1 -- Simulation under the null hypothesis using permutation sampling (2-sample test)"
   ]
  },
  {
   "cell_type": "markdown",
   "metadata": {},
   "source": [
    "- null hypothesis: data is identically distributed between the two variables\n",
    "- how likely is it to observe this data if the null hypothesis is true?\n",
    "- we can scramble (permute the data) and divide it into 2 new samples and then check if there's any difference (in other words, we generate new data under the null hypothesis)"
   ]
  },
  {
   "cell_type": "code",
   "execution_count": 2,
   "metadata": {
    "collapsed": true
   },
   "outputs": [],
   "source": [
    "df = pd.read_csv('../datasets/iris/iris.csv')\n",
    "x1 = df.loc[df['species'] == 'setosa', 'sepal_width'].values\n",
    "x2 = df.loc[df['species'] == 'versicolor', 'sepal_width'].values"
   ]
  },
  {
   "cell_type": "code",
   "execution_count": 3,
   "metadata": {},
   "outputs": [
    {
     "name": "stdout",
     "output_type": "stream",
     "text": [
      "Mean: 3.428\n",
      "Std.Dev.: 0.379064369096\n",
      "Mean: 2.77\n",
      "Std.Dev.: 0.313798323378\n"
     ]
    }
   ],
   "source": [
    "for d in (x1, x2):\n",
    "    print('Mean:', np.mean(d))\n",
    "    print('Std.Dev.:', np.std(d, ddof=1))"
   ]
  },
  {
   "cell_type": "markdown",
   "metadata": {},
   "source": [
    "- the difference in means (our test statistic) of permuted samples should be zero if the null hypothesis is true"
   ]
  },
  {
   "cell_type": "code",
   "execution_count": 4,
   "metadata": {
    "collapsed": true
   },
   "outputs": [],
   "source": [
    "def generate_permutation_samples(sample1, sample2, seed=None):\n",
    "    rng = np.random.RandomState(seed)\n",
    "    sample = np.concatenate((sample1, sample2))\n",
    "    sample_perm = rng.permutation(sample)\n",
    "    sample1_perm = sample_perm[:sample1.shape[0]]\n",
    "    sample2_perm = sample_perm[sample1.shape[0]:]\n",
    "    return sample1_perm, sample2_perm"
   ]
  },
  {
   "cell_type": "code",
   "execution_count": 5,
   "metadata": {
    "collapsed": true
   },
   "outputs": [],
   "source": [
    "num_permutations = 1000\n",
    "\n",
    "perm_mean_diffs = np.zeros(num_permutations)\n",
    "for i in range(num_permutations):\n",
    "    x1_perm, x2_perm = generate_permutation_samples(x1, x2, seed=i)\n",
    "    perm_mean_diffs[i] = np.mean(x1_perm) - np.mean(x2_perm)"
   ]
  },
  {
   "cell_type": "code",
   "execution_count": 6,
   "metadata": {},
   "outputs": [
    {
     "data": {
      "text/plain": [
       "0.65799999999999947"
      ]
     },
     "execution_count": 6,
     "metadata": {},
     "output_type": "execute_result"
    }
   ],
   "source": [
    "empirical_mean_diff = np.mean(x1) - np.mean(x2)\n",
    "empirical_mean_diff"
   ]
  },
  {
   "cell_type": "code",
   "execution_count": 7,
   "metadata": {},
   "outputs": [
    {
     "data": {
      "text/plain": [
       "<matplotlib.lines.Line2D at 0x115265518>"
      ]
     },
     "execution_count": 7,
     "metadata": {},
     "output_type": "execute_result"
    },
    {
     "data": {
      "image/png": "[encoded data removed]",
      "text/plain": [
       "<matplotlib.figure.Figure at 0x1152655c0>"
      ]
     },
     "metadata": {},
     "output_type": "display_data"
    }
   ],
   "source": [
    "plt.hist(perm_mean_diffs, bins=20)\n",
    "plt.axvline(empirical_mean_diff, color='orange')"
   ]
  },
  {
   "cell_type": "code",
   "execution_count": 8,
   "metadata": {},
   "outputs": [
    {
     "name": "stdout",
     "output_type": "stream",
     "text": [
      "P-value 0.0\n"
     ]
    }
   ],
   "source": [
    "p_value = np.sum(perm_mean_diffs >= empirical_mean_diff) / len(perm_mean_diffs)\n",
    "print('P-value', p_value)"
   ]
  },
  {
   "cell_type": "markdown",
   "metadata": {},
   "source": [
    "- the area under the histogram left (or right) to the vertical bar (difference observed in the original samples) is the p-value\n",
    "- here, the area right to the vertical bar (i.e., values that are at least as extreme as the observed difference of the mean between the two samples) is 0.0, so we can conclude that the probability of observing this data (the difference between the means of the samples) or something more extreme is 0% likely if the null hypothesis was true (remember that the p-value is not the probability that the null hypothesis is true, though)\n",
    "- thus, we can reject the null hypothesis (data is \"statistically significantly different\" from what we would expect to observe if the null hypothesis was true)"
   ]
  },
  {
   "cell_type": "markdown",
   "metadata": {},
   "source": [
    "## Case 2 -- Simulation under the null hypothesis using bootstrapping (1-sample test)"
   ]
  },
  {
   "cell_type": "code",
   "execution_count": 9,
   "metadata": {},
   "outputs": [
    {
     "data": {
      "text/plain": [
       "3.4279999999999999"
      ]
     },
     "execution_count": 9,
     "metadata": {},
     "output_type": "execute_result"
    }
   ],
   "source": [
    "df = pd.read_csv('../datasets/iris/iris.csv')\n",
    "x1 = df.loc[df['species'] == 'setosa', 'sepal_width'].values\n",
    "x1_mean = np.mean(x1)\n",
    "x1_mean"
   ]
  },
  {
   "cell_type": "markdown",
   "metadata": {},
   "source": [
    "- our null hypothesis is that two variables, x1 and x2, have the same mean (not necessarily same distribution)\n",
    "- assume we don't have a sample from x2, but we have its mean\n",
    "- we set the significance level $\\alpha=0.05$"
   ]
  },
  {
   "cell_type": "code",
   "execution_count": 10,
   "metadata": {
    "collapsed": true
   },
   "outputs": [],
   "source": [
    "x2_mean = 3.55"
   ]
  },
  {
   "cell_type": "code",
   "execution_count": 11,
   "metadata": {},
   "outputs": [
    {
     "name": "stdout",
     "output_type": "stream",
     "text": [
      "p-value 0.006\n"
     ]
    }
   ],
   "source": [
    "# 1) normalize x1 so that it has the same mean as x2\n",
    "normed_x1 = x1 - np.mean(x1) + x2_mean\n",
    "\n",
    "# 2) draw bootstrap replicates\n",
    "def bootstrap_means(x, n_bootstrap_samples, seed=None):\n",
    "\n",
    "    rng = np.random.RandomState(seed)\n",
    "    sample_means = np.zeros(shape=n_bootstrap_samples)\n",
    "    \n",
    "    for i in range(n_bootstrap_samples):\n",
    "        boot_sample = rng.choice(x, size=x.shape[0], replace=True)\n",
    "        # replicate is a general term for a statistic computed\n",
    "        # from a bootstrap sample\n",
    "        bootstrap_replicate = np.mean(boot_sample)\n",
    "        sample_means[i] = bootstrap_replicate\n",
    "    return sample_means\n",
    "\n",
    "num_replicates = 1000\n",
    "bs_replicates = bootstrap_means(x1, n_bootstrap_samples=num_replicates, seed=123)\n",
    "\n",
    "# 3) compute p-value\n",
    "p_value = np.sum(bs_replicates >= x2_mean) / num_replicates\n",
    "\n",
    "print('p-value', p_value)"
   ]
  },
  {
   "cell_type": "markdown",
   "metadata": {},
   "source": [
    "- at $\\alpha=0.05$, we can reject the null hypothesis that the two variables are from the same distribtion"
   ]
  }
 ],
 "metadata": {
  "kernelspec": {
   "display_name": "Python 3",
   "language": "python",
   "name": "python3"
  },
  "language_info": {
   "codemirror_mode": {
    "name": "ipython",
    "version": 3
   },
   "file_extension": ".py",
   "mimetype": "text/x-python",
   "name": "python",
   "nbconvert_exporter": "python",
   "pygments_lexer": "ipython3",
   "version": "3.6.1"
  }
 },
 "nbformat": 4,
 "nbformat_minor": 2
}
